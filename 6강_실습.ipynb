{
  "nbformat": 4,
  "nbformat_minor": 0,
  "metadata": {
    "colab": {
      "provenance": [],
      "include_colab_link": true
    },
    "kernelspec": {
      "name": "python3",
      "display_name": "Python 3"
    },
    "language_info": {
      "name": "python"
    }
  },
  "cells": [
    {
      "cell_type": "markdown",
      "metadata": {
        "id": "view-in-github",
        "colab_type": "text"
      },
      "source": [
        "<a href=\"https://colab.research.google.com/github/xaonoax/python_study_knou/blob/main/6%EA%B0%95_%EC%8B%A4%EC%8A%B5.ipynb\" target=\"_parent\"><img src=\"https://colab.research.google.com/assets/colab-badge.svg\" alt=\"Open In Colab\"/></a>"
      ]
    },
    {
      "cell_type": "markdown",
      "source": [
        "# 6장 1절"
      ],
      "metadata": {
        "id": "hckgpz65oDBv"
      }
    },
    {
      "cell_type": "code",
      "source": [
        "light_on = 3 > 6\n",
        "print(light_on)"
      ],
      "metadata": {
        "colab": {
          "base_uri": "https://localhost:8080/"
        },
        "id": "tzi-GEfByQw7",
        "outputId": "f0785242-b947-4cad-83dd-904774a67cca"
      },
      "execution_count": 5,
      "outputs": [
        {
          "output_type": "stream",
          "name": "stdout",
          "text": [
            "False\n"
          ]
        }
      ]
    },
    {
      "cell_type": "code",
      "source": [
        "suf = 10\n",
        "vol = 20\n",
        "isStop = suf == vol\n",
        "print(isStop)"
      ],
      "metadata": {
        "colab": {
          "base_uri": "https://localhost:8080/"
        },
        "id": "7ObOb1fxyoDn",
        "outputId": "8b3fb7be-59d8-4e37-ebe1-e50d7f7915fd"
      },
      "execution_count": 8,
      "outputs": [
        {
          "output_type": "stream",
          "name": "stdout",
          "text": [
            "False\n"
          ]
        }
      ]
    },
    {
      "cell_type": "code",
      "execution_count": 11,
      "metadata": {
        "id": "ZW1w8qQHoAm3",
        "colab": {
          "base_uri": "https://localhost:8080/"
        },
        "outputId": "685e6c28-c4f6-48d4-bde8-ba41f9827449"
      },
      "outputs": [
        {
          "output_type": "stream",
          "name": "stdout",
          "text": [
            "반지름을 입력하세요:20\n",
            "높이를 입력하세요:-30\n",
            "원뿔의 부피는 -12559.999999999998 입니다.\n",
            "원뿔의 겉넓이는 -628.0000000000002 입니다\n"
          ]
        }
      ],
      "source": [
        "#반지름 사용자 입력\n",
        "rad = int(input(\"반지름을 입력하세요:\"))\n",
        "#높이 사용자 입력\n",
        "hei = int(input(\"높이를 입력하세요:\"))\n",
        "\n",
        "if rad > 0 :\n",
        "    #부피&겉넓이 계산\n",
        "    vol = 1/3 * 3.14 * rad ** 2 * hei\n",
        "    suf = 3.14 * rad ** 2 + 3.14 * rad * hei\n",
        "    print(\"원뿔의 부피는\" ,vol, \"입니다.\")\n",
        "    print(\"원뿔의 겉넓이는\" ,suf, \"입니다\")"
      ]
    },
    {
      "cell_type": "markdown",
      "source": [],
      "metadata": {
        "id": "gIxdfGagpB53"
      }
    },
    {
      "cell_type": "markdown",
      "source": [
        "# 6강 2절"
      ],
      "metadata": {
        "id": "cquz2vj9oGml"
      }
    },
    {
      "cell_type": "code",
      "source": [
        "temp = 20\n",
        "fruit = \"apple\"\n",
        "\n",
        "print(not temp <= 27)"
      ],
      "metadata": {
        "colab": {
          "base_uri": "https://localhost:8080/"
        },
        "id": "aytFWAsS0-PP",
        "outputId": "f1edccfd-13a1-4eaf-f10d-fad0758887e9"
      },
      "execution_count": 14,
      "outputs": [
        {
          "output_type": "stream",
          "name": "stdout",
          "text": [
            "False\n"
          ]
        }
      ]
    },
    {
      "cell_type": "code",
      "source": [
        "#반지름 사용자 입력\n",
        "rad = int(input(\"반지름을 입력하세요:\"))\n",
        "#높이 사용자 입력\n",
        "hei = int(input(\"높이를 입력하세요:\"))\n",
        "\n",
        "if rad > 0 and hei > 0 :\n",
        "    #부피&겉넓이 계산\n",
        "    vol = 1/3 * 3.14 * rad ** 2 * hei\n",
        "    suf = 3.14 * rad ** 2 + 3.14 * rad * hei\n",
        "    print(\"원뿔의 부피는\" ,vol, \"입니다.\")\n",
        "    print(\"원뿔의 겉넓이는\" ,suf, \"입니다\")"
      ],
      "metadata": {
        "colab": {
          "base_uri": "https://localhost:8080/"
        },
        "id": "fJllhNzn08UY",
        "outputId": "6012607f-9d0f-45ec-d72d-032817c9a858"
      },
      "execution_count": 16,
      "outputs": [
        {
          "name": "stdout",
          "output_type": "stream",
          "text": [
            "반지름을 입력하세요:20\n",
            "높이를 입력하세요:-30\n"
          ]
        }
      ]
    },
    {
      "cell_type": "markdown",
      "source": [],
      "metadata": {
        "id": "4Jmk0O4D1gwq"
      }
    },
    {
      "cell_type": "markdown",
      "source": [
        "# 6강 3절"
      ],
      "metadata": {
        "id": "CYlWhaPp1hAw"
      }
    },
    {
      "cell_type": "markdown",
      "source": [
        "else를 이용한 원뿔 프로그램 개선"
      ],
      "metadata": {
        "id": "eE6PBoy43e01"
      }
    },
    {
      "cell_type": "code",
      "source": [
        "#반지름 사용자 입력\n",
        "rad = int(input(\"반지름을 입력하세요:\"))\n",
        "#높이 사용자 입력\n",
        "hei = int(input(\"높이를 입력하세요:\"))\n",
        "\n",
        "if rad > 0 and hei > 0 :\n",
        "    #부피&겉넓이 계산\n",
        "    vol = 1/3 * 3.14 * rad ** 2 * hei\n",
        "    suf = 3.14 * rad ** 2 + 3.14 * rad * hei\n",
        "    print(\"원뿔의 부피는\" ,vol, \"입니다.\")\n",
        "    print(\"원뿔의 겉넓이는\" ,suf, \"입니다\")\n",
        "else :\n",
        "    print(\"반지름과 높이의 값을 모두 양수로 입력해주세요\")"
      ],
      "metadata": {
        "colab": {
          "base_uri": "https://localhost:8080/"
        },
        "id": "dyWMHaJ23bGU",
        "outputId": "29ca33d5-e487-4f7a-b175-5445224dfd6b"
      },
      "execution_count": 18,
      "outputs": [
        {
          "output_type": "stream",
          "name": "stdout",
          "text": [
            "반지름을 입력하세요:20\n",
            "높이를 입력하세요:-30\n",
            "반지름과 높이의 값을 모두 양수로 입력해주세요\n"
          ]
        }
      ]
    },
    {
      "cell_type": "markdown",
      "source": [
        "가장 큰 수 찾는 프로그램"
      ],
      "metadata": {
        "id": "_2ZlVieZpKuT"
      }
    },
    {
      "cell_type": "code",
      "source": [
        "#  A, B, C 사용자 입력\n",
        "A = int(input(\"A 입력 : \"))\n",
        "B = int(input(\"B 입력 : \"))\n",
        "C = int(input(\"C 입력 : \"))\n",
        "\n",
        "# A, B, C 중 가장 큰 수 출력\n",
        "if A > B :\n",
        "    if A > C :\n",
        "        print(A)\n",
        "    else :\n",
        "        print(C)\n",
        "else :\n",
        "    if B > C :\n",
        "        print(B)\n",
        "    else :\n",
        "        print(C)"
      ],
      "metadata": {
        "colab": {
          "base_uri": "https://localhost:8080/"
        },
        "id": "xYoA-pSO36LQ",
        "outputId": "50a100fc-0a80-47aa-e758-687d2f2c3885"
      },
      "execution_count": 20,
      "outputs": [
        {
          "output_type": "stream",
          "name": "stdout",
          "text": [
            "A 입력 : 10\n",
            "B 입력 : 20\n",
            "C 입력 : 30\n",
            "30\n"
          ]
        }
      ]
    }
  ]
}
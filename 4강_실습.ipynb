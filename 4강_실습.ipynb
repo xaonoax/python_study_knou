{
  "nbformat": 4,
  "nbformat_minor": 0,
  "metadata": {
    "colab": {
      "provenance": [],
      "include_colab_link": true
    },
    "kernelspec": {
      "name": "python3",
      "display_name": "Python 3"
    },
    "language_info": {
      "name": "python"
    }
  },
  "cells": [
    {
      "cell_type": "markdown",
      "metadata": {
        "id": "view-in-github",
        "colab_type": "text"
      },
      "source": [
        "<a href=\"https://colab.research.google.com/github/xaonoax/python_study_knou/blob/main/4%EA%B0%95_%EC%8B%A4%EC%8A%B5.ipynb\" target=\"_parent\"><img src=\"https://colab.research.google.com/assets/colab-badge.svg\" alt=\"Open In Colab\"/></a>"
      ]
    },
    {
      "cell_type": "markdown",
      "source": [
        "# 4강 1절"
      ],
      "metadata": {
        "id": "8qm2njbqj44L"
      }
    },
    {
      "cell_type": "code",
      "source": [
        "3.141592"
      ],
      "metadata": {
        "colab": {
          "base_uri": "https://localhost:8080/"
        },
        "id": "tRVTZQTF4Eji",
        "outputId": "c3489921-92dc-4c2a-d53f-8588915425e1"
      },
      "execution_count": 1,
      "outputs": [
        {
          "output_type": "execute_result",
          "data": {
            "text/plain": [
              "3.141592"
            ]
          },
          "metadata": {},
          "execution_count": 1
        }
      ]
    },
    {
      "cell_type": "code",
      "source": [
        "\"Computer\""
      ],
      "metadata": {
        "colab": {
          "base_uri": "https://localhost:8080/",
          "height": 36
        },
        "id": "FV1GuaSh4SOx",
        "outputId": "9052a809-1ef4-4789-9404-2c5d3db3fd9e"
      },
      "execution_count": 2,
      "outputs": [
        {
          "output_type": "execute_result",
          "data": {
            "text/plain": [
              "'Computer'"
            ],
            "application/vnd.google.colaboratory.intrinsic+json": {
              "type": "string"
            }
          },
          "metadata": {},
          "execution_count": 2
        }
      ]
    },
    {
      "cell_type": "code",
      "source": [
        "# 인용 부호 주의 “Hello World!”\n",
        "\"Hello World!\""
      ],
      "metadata": {
        "id": "Rupa9hQnfVSx",
        "colab": {
          "base_uri": "https://localhost:8080/",
          "height": 36
        },
        "outputId": "1a321f5c-4cee-4a7b-daeb-65eda0ea9231"
      },
      "execution_count": 7,
      "outputs": [
        {
          "output_type": "execute_result",
          "data": {
            "text/plain": [
              "'Hello World!'"
            ],
            "application/vnd.google.colaboratory.intrinsic+json": {
              "type": "string"
            }
          },
          "metadata": {},
          "execution_count": 7
        }
      ]
    },
    {
      "cell_type": "code",
      "source": [
        "(7 + 15) * 2"
      ],
      "metadata": {
        "colab": {
          "base_uri": "https://localhost:8080/"
        },
        "id": "DoKFMfZG47H0",
        "outputId": "76ee8fd4-2cd5-42a1-dc7d-3f329a9da829"
      },
      "execution_count": 9,
      "outputs": [
        {
          "output_type": "execute_result",
          "data": {
            "text/plain": [
              "44"
            ]
          },
          "metadata": {},
          "execution_count": 9
        }
      ]
    },
    {
      "cell_type": "code",
      "source": [
        "# 2의 10승 * 5\n",
        "2 ** 10 * 5"
      ],
      "metadata": {
        "colab": {
          "base_uri": "https://localhost:8080/"
        },
        "id": "rb8BY75X5H9j",
        "outputId": "6c9d2c25-3abf-430a-c177-74edce4f68d7"
      },
      "execution_count": 10,
      "outputs": [
        {
          "output_type": "execute_result",
          "data": {
            "text/plain": [
              "5120"
            ]
          },
          "metadata": {},
          "execution_count": 10
        }
      ]
    },
    {
      "cell_type": "code",
      "source": [
        "\"computer\" * 2"
      ],
      "metadata": {
        "colab": {
          "base_uri": "https://localhost:8080/",
          "height": 36
        },
        "id": "vJ1hz-n_5SCG",
        "outputId": "84f5ebf7-97dc-4f56-9128-dc38306d1fcd"
      },
      "execution_count": 18,
      "outputs": [
        {
          "output_type": "execute_result",
          "data": {
            "text/plain": [
              "'com'"
            ],
            "application/vnd.google.colaboratory.intrinsic+json": {
              "type": "string"
            }
          },
          "metadata": {},
          "execution_count": 18
        }
      ]
    },
    {
      "cell_type": "code",
      "source": [
        "print(\"Hello World!\")\n",
        "print(\"Python is Fun\")"
      ],
      "metadata": {
        "colab": {
          "base_uri": "https://localhost:8080/"
        },
        "id": "s4Th4DnY5efu",
        "outputId": "6b9066f3-da52-406e-bbd1-a4f7ca107882"
      },
      "execution_count": 22,
      "outputs": [
        {
          "output_type": "stream",
          "name": "stdout",
          "text": [
            "Hello World!\n",
            "Python is Fun\n"
          ]
        }
      ]
    },
    {
      "cell_type": "markdown",
      "source": [
        "학점 계산"
      ],
      "metadata": {
        "id": "lABFRoNN6ZK5"
      }
    },
    {
      "cell_type": "code",
      "source": [
        "# 학점 계산\n",
        "print((4.5 * 2 + 4.0 * 3) / 2)"
      ],
      "metadata": {
        "colab": {
          "base_uri": "https://localhost:8080/"
        },
        "id": "LJElPAn76AE4",
        "outputId": "79e54c92-3334-4f27-ad78-ea5ea7054e88"
      },
      "execution_count": 24,
      "outputs": [
        {
          "output_type": "stream",
          "name": "stdout",
          "text": [
            "10.5\n"
          ]
        }
      ]
    },
    {
      "cell_type": "markdown",
      "source": [
        "# 4강 2절"
      ],
      "metadata": {
        "id": "XA4yR0RDjgNl"
      }
    },
    {
      "cell_type": "code",
      "source": [
        "print(1 / 3 * 3.14 * 20 ** 2 * 30 )\n",
        "print(3.14 * 20 ** 2 + 3.14 * 20 * 30)"
      ],
      "metadata": {
        "id": "buMmaXCXjk6D"
      },
      "execution_count": null,
      "outputs": []
    }
  ]
}
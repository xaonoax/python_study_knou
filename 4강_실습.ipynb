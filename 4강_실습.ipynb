{
  "nbformat": 4,
  "nbformat_minor": 0,
  "metadata": {
    "colab": {
      "provenance": [],
      "include_colab_link": true
    },
    "kernelspec": {
      "name": "python3",
      "display_name": "Python 3"
    },
    "language_info": {
      "name": "python"
    }
  },
  "cells": [
    {
      "cell_type": "markdown",
      "metadata": {
        "id": "view-in-github",
        "colab_type": "text"
      },
      "source": [
        "<a href=\"https://colab.research.google.com/github/xaonoax/python_study_knou/blob/main/4%EA%B0%95_%EC%8B%A4%EC%8A%B5.ipynb\" target=\"_parent\"><img src=\"https://colab.research.google.com/assets/colab-badge.svg\" alt=\"Open In Colab\"/></a>"
      ]
    },
    {
      "cell_type": "markdown",
      "source": [
        "# 4강 1절"
      ],
      "metadata": {
        "id": "8qm2njbqj44L"
      }
    },
    {
      "cell_type": "code",
      "source": [
        "3.141592"
      ],
      "metadata": {
        "colab": {
          "base_uri": "https://localhost:8080/"
        },
        "id": "tRVTZQTF4Eji",
        "outputId": "bdbdd5cf-7b55-4cea-9ea4-f3fe0001d03c"
      },
      "execution_count": 34,
      "outputs": [
        {
          "output_type": "execute_result",
          "data": {
            "text/plain": [
              "3.141592"
            ]
          },
          "metadata": {},
          "execution_count": 34
        }
      ]
    },
    {
      "cell_type": "code",
      "source": [
        "\"Computer\""
      ],
      "metadata": {
        "colab": {
          "base_uri": "https://localhost:8080/",
          "height": 36
        },
        "id": "FV1GuaSh4SOx",
        "outputId": "dd1fdb84-ef50-4d82-9f4e-74a754cdce96"
      },
      "execution_count": 35,
      "outputs": [
        {
          "output_type": "execute_result",
          "data": {
            "text/plain": [
              "'Computer'"
            ],
            "application/vnd.google.colaboratory.intrinsic+json": {
              "type": "string"
            }
          },
          "metadata": {},
          "execution_count": 35
        }
      ]
    },
    {
      "cell_type": "code",
      "source": [
        "# 인용 부호 주의 “Hello World!”\n",
        "\"Hello World!\""
      ],
      "metadata": {
        "id": "Rupa9hQnfVSx",
        "colab": {
          "base_uri": "https://localhost:8080/",
          "height": 36
        },
        "outputId": "1a321f5c-4cee-4a7b-daeb-65eda0ea9231"
      },
      "execution_count": 7,
      "outputs": [
        {
          "output_type": "execute_result",
          "data": {
            "text/plain": [
              "'Hello World!'"
            ],
            "application/vnd.google.colaboratory.intrinsic+json": {
              "type": "string"
            }
          },
          "metadata": {},
          "execution_count": 7
        }
      ]
    },
    {
      "cell_type": "code",
      "source": [
        "(7 + 15) * 2"
      ],
      "metadata": {
        "colab": {
          "base_uri": "https://localhost:8080/"
        },
        "id": "DoKFMfZG47H0",
        "outputId": "76ee8fd4-2cd5-42a1-dc7d-3f329a9da829"
      },
      "execution_count": 9,
      "outputs": [
        {
          "output_type": "execute_result",
          "data": {
            "text/plain": [
              "44"
            ]
          },
          "metadata": {},
          "execution_count": 9
        }
      ]
    },
    {
      "cell_type": "code",
      "source": [
        "# 2의 10승 * 5\n",
        "2 ** 10 * 5"
      ],
      "metadata": {
        "colab": {
          "base_uri": "https://localhost:8080/"
        },
        "id": "rb8BY75X5H9j",
        "outputId": "6c9d2c25-3abf-430a-c177-74edce4f68d7"
      },
      "execution_count": 10,
      "outputs": [
        {
          "output_type": "execute_result",
          "data": {
            "text/plain": [
              "5120"
            ]
          },
          "metadata": {},
          "execution_count": 10
        }
      ]
    },
    {
      "cell_type": "code",
      "source": [
        "\"computer\" * 2"
      ],
      "metadata": {
        "colab": {
          "base_uri": "https://localhost:8080/",
          "height": 36
        },
        "id": "vJ1hz-n_5SCG",
        "outputId": "84f5ebf7-97dc-4f56-9128-dc38306d1fcd"
      },
      "execution_count": 18,
      "outputs": [
        {
          "output_type": "execute_result",
          "data": {
            "text/plain": [
              "'com'"
            ],
            "application/vnd.google.colaboratory.intrinsic+json": {
              "type": "string"
            }
          },
          "metadata": {},
          "execution_count": 18
        }
      ]
    },
    {
      "cell_type": "code",
      "source": [
        "print(\"Hello World!\")\n",
        "print(\"Python is Fun\")"
      ],
      "metadata": {
        "colab": {
          "base_uri": "https://localhost:8080/"
        },
        "id": "s4Th4DnY5efu",
        "outputId": "6b9066f3-da52-406e-bbd1-a4f7ca107882"
      },
      "execution_count": 22,
      "outputs": [
        {
          "output_type": "stream",
          "name": "stdout",
          "text": [
            "Hello World!\n",
            "Python is Fun\n"
          ]
        }
      ]
    },
    {
      "cell_type": "markdown",
      "source": [
        "학점 계산"
      ],
      "metadata": {
        "id": "lABFRoNN6ZK5"
      }
    },
    {
      "cell_type": "code",
      "source": [
        "# 학점 계산\n",
        "print((4.5 * 2 + 4.0 * 3) / 2)"
      ],
      "metadata": {
        "colab": {
          "base_uri": "https://localhost:8080/"
        },
        "id": "LJElPAn76AE4",
        "outputId": "79e54c92-3334-4f27-ad78-ea5ea7054e88"
      },
      "execution_count": 24,
      "outputs": [
        {
          "output_type": "stream",
          "name": "stdout",
          "text": [
            "10.5\n"
          ]
        }
      ]
    },
    {
      "cell_type": "markdown",
      "source": [
        "# 4강 2절"
      ],
      "metadata": {
        "id": "XA4yR0RDjgNl"
      }
    },
    {
      "cell_type": "code",
      "source": [
        "# 원뿔 반지름, 높이 값 할당\n",
        "rad = 40\n",
        "hei = 10\n",
        "\n",
        "# 부피 출력\n",
        "print(1 / 3 * 3.14 * rad ** 2 * hei )\n",
        "#겉넓이 출력\n",
        "print(3.14 * rad ** 2 + 3.14 * rad * hei)"
      ],
      "metadata": {
        "id": "buMmaXCXjk6D",
        "colab": {
          "base_uri": "https://localhost:8080/"
        },
        "outputId": "e6d7a4a2-0dbb-4474-b680-d28ed830dd93"
      },
      "execution_count": 29,
      "outputs": [
        {
          "output_type": "stream",
          "name": "stdout",
          "text": [
            "16746.666666666664\n",
            "6280.0\n"
          ]
        }
      ]
    },
    {
      "cell_type": "markdown",
      "source": [
        "## 4강 3절"
      ],
      "metadata": {
        "id": "66NPGQ7zAKN9"
      }
    },
    {
      "cell_type": "code",
      "source": [
        "5 / 2"
      ],
      "metadata": {
        "colab": {
          "base_uri": "https://localhost:8080/"
        },
        "id": "vpMolgc-AcnO",
        "outputId": "d4770d22-35aa-4101-f1c6-1c1c2a686d00"
      },
      "execution_count": 30,
      "outputs": [
        {
          "output_type": "execute_result",
          "data": {
            "text/plain": [
              "2.5"
            ]
          },
          "metadata": {},
          "execution_count": 30
        }
      ]
    },
    {
      "cell_type": "code",
      "source": [
        "5 // 2"
      ],
      "metadata": {
        "colab": {
          "base_uri": "https://localhost:8080/"
        },
        "id": "H91ZSI99AhDg",
        "outputId": "fdcec73c-4cfa-4a77-fcbe-33a4464e11be"
      },
      "execution_count": 31,
      "outputs": [
        {
          "output_type": "execute_result",
          "data": {
            "text/plain": [
              "2"
            ]
          },
          "metadata": {},
          "execution_count": 31
        }
      ]
    },
    {
      "cell_type": "code",
      "source": [
        "25 % 7"
      ],
      "metadata": {
        "colab": {
          "base_uri": "https://localhost:8080/"
        },
        "id": "PhNQ1kKmAq0b",
        "outputId": "4aa9f4fc-6549-4706-d6e7-4e736f522335"
      },
      "execution_count": 32,
      "outputs": [
        {
          "output_type": "execute_result",
          "data": {
            "text/plain": [
              "4"
            ]
          },
          "metadata": {},
          "execution_count": 32
        }
      ]
    },
    {
      "cell_type": "code",
      "source": [
        "8.4 % 0.9"
      ],
      "metadata": {
        "colab": {
          "base_uri": "https://localhost:8080/"
        },
        "id": "IgNd1vHoAvOw",
        "outputId": "4ff54902-8d43-47bb-fd57-2a7db59dab7f"
      },
      "execution_count": 33,
      "outputs": [
        {
          "output_type": "execute_result",
          "data": {
            "text/plain": [
              "0.30000000000000016"
            ]
          },
          "metadata": {},
          "execution_count": 33
        }
      ]
    },
    {
      "cell_type": "code",
      "source": [
        "number = 9\n",
        "number % 2"
      ],
      "metadata": {
        "colab": {
          "base_uri": "https://localhost:8080/"
        },
        "id": "6c0h-aTNA1iI",
        "outputId": "c904fb53-743c-4fec-d2d5-f912d9a4601b"
      },
      "execution_count": 37,
      "outputs": [
        {
          "output_type": "execute_result",
          "data": {
            "text/plain": [
              "1"
            ]
          },
          "metadata": {},
          "execution_count": 37
        }
      ]
    },
    {
      "cell_type": "code",
      "source": [
        "max(2, 3, 4)"
      ],
      "metadata": {
        "colab": {
          "base_uri": "https://localhost:8080/"
        },
        "id": "hAR5q0N5BBjX",
        "outputId": "47f138da-2f8f-4511-9655-116052cfff4a"
      },
      "execution_count": 39,
      "outputs": [
        {
          "output_type": "execute_result",
          "data": {
            "text/plain": [
              "4"
            ]
          },
          "metadata": {},
          "execution_count": 39
        }
      ]
    },
    {
      "cell_type": "code",
      "source": [
        "min(2, 3, 4)"
      ],
      "metadata": {
        "colab": {
          "base_uri": "https://localhost:8080/"
        },
        "id": "ZehLCuy9BEZn",
        "outputId": "2b94efea-bdeb-43e1-c81f-b33a9bb4ac54"
      },
      "execution_count": 40,
      "outputs": [
        {
          "output_type": "execute_result",
          "data": {
            "text/plain": [
              "2"
            ]
          },
          "metadata": {},
          "execution_count": 40
        }
      ]
    },
    {
      "cell_type": "code",
      "source": [
        "# 반올림\n",
        "round(3.14)"
      ],
      "metadata": {
        "colab": {
          "base_uri": "https://localhost:8080/"
        },
        "id": "0_vXl63MBFj9",
        "outputId": "41a18e88-2756-43ef-8bcb-349e4ecfff05"
      },
      "execution_count": 41,
      "outputs": [
        {
          "output_type": "execute_result",
          "data": {
            "text/plain": [
              "3"
            ]
          },
          "metadata": {},
          "execution_count": 41
        }
      ]
    },
    {
      "cell_type": "code",
      "source": [
        "# 절대값\n",
        "abs(-3)"
      ],
      "metadata": {
        "colab": {
          "base_uri": "https://localhost:8080/"
        },
        "id": "iTu4taK6BHjM",
        "outputId": "ab4e9a22-d11a-416e-8402-9d9b326818b6"
      },
      "execution_count": 42,
      "outputs": [
        {
          "output_type": "execute_result",
          "data": {
            "text/plain": [
              "3"
            ]
          },
          "metadata": {},
          "execution_count": 42
        }
      ]
    },
    {
      "cell_type": "code",
      "source": [
        "# 거듭 제곱\n",
        "pow(2, 3)"
      ],
      "metadata": {
        "colab": {
          "base_uri": "https://localhost:8080/"
        },
        "id": "MI3UGA9NBRJN",
        "outputId": "4c7dfa87-9400-4ec9-d7c1-4720a2552ae8"
      },
      "execution_count": 43,
      "outputs": [
        {
          "output_type": "execute_result",
          "data": {
            "text/plain": [
              "8"
            ]
          },
          "metadata": {},
          "execution_count": 43
        }
      ]
    }
  ]
}
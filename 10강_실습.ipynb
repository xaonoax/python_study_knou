{
  "nbformat": 4,
  "nbformat_minor": 0,
  "metadata": {
    "colab": {
      "provenance": [],
      "include_colab_link": true
    },
    "kernelspec": {
      "name": "python3",
      "display_name": "Python 3"
    },
    "language_info": {
      "name": "python"
    }
  },
  "cells": [
    {
      "cell_type": "markdown",
      "metadata": {
        "id": "view-in-github",
        "colab_type": "text"
      },
      "source": [
        "<a href=\"https://colab.research.google.com/github/xaonoax/python_study_knou/blob/main/10%EA%B0%95_%EC%8B%A4%EC%8A%B5.ipynb\" target=\"_parent\"><img src=\"https://colab.research.google.com/assets/colab-badge.svg\" alt=\"Open In Colab\"/></a>"
      ]
    },
    {
      "cell_type": "markdown",
      "source": [
        "# 10강 실습"
      ],
      "metadata": {
        "id": "uDkEgwpZl1f1"
      }
    },
    {
      "cell_type": "markdown",
      "source": [
        "**10강 1절**"
      ],
      "metadata": {
        "id": "vqzxKFmRl5Y5"
      }
    },
    {
      "cell_type": "markdown",
      "source": [
        "원뿔 클래스를 작성하시오"
      ],
      "metadata": {
        "id": "lcR1mMQbxPN1"
      }
    },
    {
      "cell_type": "code",
      "execution_count": 1,
      "metadata": {
        "id": "FTNaN-iHlnNO"
      },
      "outputs": [],
      "source": [
        "class Cone :\n",
        "    def __init__(self, radius = 20, height = 30) :\n",
        "        self.r = radius\n",
        "        self.h = height\n",
        "\n",
        "    def get_vol(self) :\n",
        "        return 1/3 * 3.14 * self.r ** 2 * self.h\n",
        "\n",
        "    def get_surf(self) :\n",
        "        return 3.14 * self.r ** 2 + 3.14 * self.r * self.h"
      ]
    },
    {
      "cell_type": "markdown",
      "source": [
        "이름, 나이, 몸무게, 키를 데이터 필드로 사용하는 BMI 클래스를 정의하는 프로그램을 작성하시오.\n",
        "\n",
        "![BMIstatus.png](data:image/png;base64,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)\n",
        "\n",
        "---\n",
        "\n"
      ],
      "metadata": {
        "id": "HsNWnbtzmLaJ"
      }
    },
    {
      "cell_type": "code",
      "source": [
        "class BMI :\n",
        "    def __init__(self, name, age, weight, height) :\n",
        "        self.name = name\n",
        "        self.age = age\n",
        "        self.weight = weight\n",
        "        self.height = height\n",
        "\n",
        "    def get_BMI(self) :\n",
        "        return self.weight / (self.height / 100) ** 2\n",
        "\n",
        "    def get_status(self) :\n",
        "        BMI = self.get_BMI()\n",
        "\n",
        "        if BMI >= 25 :\n",
        "            return \"비만\"\n",
        "        elif BMI >= 23 and BMI < 25 :\n",
        "            return \"과체중\"\n",
        "        elif BMI >= 18.5 and BMI < 23 :\n",
        "            return \"정상\"\n",
        "        else :\n",
        "            return \"저체중\"\n"
      ],
      "metadata": {
        "id": "kGjkpruVvTS5"
      },
      "execution_count": 2,
      "outputs": []
    },
    {
      "cell_type": "markdown",
      "source": [
        "**10강 2절**"
      ],
      "metadata": {
        "id": "6U85Qliel_N7"
      }
    },
    {
      "cell_type": "markdown",
      "source": [
        "단위 원뿔과 반지름, 높이가 50, 100인 원뿔의 부피와 겉넓이를 출력하는 프로그램을 작성하시오"
      ],
      "metadata": {
        "id": "Mv7GlNukxuSW"
      }
    },
    {
      "cell_type": "code",
      "source": [
        "unit_cone = Cone()\n",
        "big_cone = Cone(50, 100)\n",
        "\n",
        "print(\"단위 원뿔의 겉넓이와 부피는\", unit_cone.get_surf(), unit_cone.get_vol(), \"입니다.\")\n",
        "print(\"큰 원뿔의 겉넓이와 부피는\", big_cone.get_surf(), big_cone.get_vol(), \"입니다.\")\n"
      ],
      "metadata": {
        "id": "zQVNoXVKyB3M",
        "colab": {
          "base_uri": "https://localhost:8080/"
        },
        "outputId": "5ac64fd8-9c32-4116-bc77-d6f432a6cf34"
      },
      "execution_count": 3,
      "outputs": [
        {
          "output_type": "stream",
          "name": "stdout",
          "text": [
            "단위 원뿔의 겉넓이와 부피는 3140.0 12559.999999999998 입니다.\n",
            "큰 원뿔의 겉넓이와 부피는 23550.0 261666.66666666666 입니다.\n"
          ]
        }
      ]
    },
    {
      "cell_type": "markdown",
      "source": [
        "가상의 이름, 나이, 몸무게, 키로 BMI 객체를 사용하는 프로그램을 작성하시오"
      ],
      "metadata": {
        "id": "T_-7-U8ZyCcN"
      }
    },
    {
      "cell_type": "code",
      "source": [
        "person1 = BMI(\"홍길동\", 40, 78, 182)\n",
        "\n",
        "print(person1.name + \"님(\" + str(person1.age) + \"세)의 BMI 수치는\", person1.get_BMI(), \"결과는\", person1.get_status(), \"입니다.\")"
      ],
      "metadata": {
        "id": "tiZVGBTmyPFV",
        "colab": {
          "base_uri": "https://localhost:8080/"
        },
        "outputId": "968a6c77-3a78-42bd-dc58-1f8eb9e3edb4"
      },
      "execution_count": 5,
      "outputs": [
        {
          "output_type": "stream",
          "name": "stdout",
          "text": [
            "홍길동님(40세)의 BMI 수치는 23.54788069073783 결과는 과체중 입니다.\n"
          ]
        }
      ]
    },
    {
      "cell_type": "markdown",
      "source": [
        "**10강 3절**\n"
      ],
      "metadata": {
        "id": "CAMthAFhmBAf"
      }
    },
    {
      "cell_type": "markdown",
      "source": [
        "멤버 __r과 __h에 대한 접근자와 변경자를 갖는 원뿔 클래스를 작성하고 객체를 활용하는 프로그램을 작성하시오. (런타임 리셋 필요)"
      ],
      "metadata": {
        "id": "5WPs1UfZySk2"
      }
    },
    {
      "cell_type": "code",
      "source": [
        "class pCone :\n",
        "    def __init__(self, radius = 20, height = 30) :\n",
        "        if radius > 0 and height > 0 :\n",
        "            self.__r = radius\n",
        "            self.__h = height\n",
        "\n",
        "    def get_vol(self) :\n",
        "        return 1/3 * 3.14 * self.__r ** 2 * self.__h\n",
        "\n",
        "    def get_surf(self) :\n",
        "        return 3.14 * self.__r ** 2 + 3.14 * self.__r * self.__h\n",
        "\n",
        "    def get_radius(self) :\n",
        "        return self.__r\n",
        "\n",
        "    def set_radius(self, radius) :\n",
        "        if radius >= 0 :\n",
        "            self.__r = radius"
      ],
      "metadata": {
        "id": "A3efEHIo0dEY"
      },
      "execution_count": 16,
      "outputs": []
    },
    {
      "cell_type": "code",
      "source": [
        "perfect_cone = pCone(100, 200)\n",
        "perfect_cone.get_surf()"
      ],
      "metadata": {
        "colab": {
          "base_uri": "https://localhost:8080/"
        },
        "id": "2xt4oLFs081u",
        "outputId": "53137de1-048e-49b1-cf30-d429ece4287a"
      },
      "execution_count": 19,
      "outputs": [
        {
          "output_type": "execute_result",
          "data": {
            "text/plain": [
              "94200.0"
            ]
          },
          "metadata": {},
          "execution_count": 19
        }
      ]
    }
  ]
}
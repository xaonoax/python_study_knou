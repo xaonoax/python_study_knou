{
  "nbformat": 4,
  "nbformat_minor": 0,
  "metadata": {
    "colab": {
      "provenance": [],
      "include_colab_link": true
    },
    "kernelspec": {
      "name": "python3",
      "display_name": "Python 3"
    },
    "language_info": {
      "name": "python"
    }
  },
  "cells": [
    {
      "cell_type": "markdown",
      "metadata": {
        "id": "view-in-github",
        "colab_type": "text"
      },
      "source": [
        "<a href=\"https://colab.research.google.com/github/xaonoax/python_study_knou/blob/main/7%EA%B0%95_%EC%8B%A4%EC%8A%B5.ipynb\" target=\"_parent\"><img src=\"https://colab.research.google.com/assets/colab-badge.svg\" alt=\"Open In Colab\"/></a>"
      ]
    },
    {
      "cell_type": "markdown",
      "source": [
        "# 7강 1절"
      ],
      "metadata": {
        "id": "J-bN6rMlvDGe"
      }
    },
    {
      "cell_type": "code",
      "execution_count": 3,
      "metadata": {
        "id": "9pzywTqbu-M8",
        "colab": {
          "base_uri": "https://localhost:8080/"
        },
        "outputId": "2498a4ba-b1e6-4bcd-cf38-91667424bdf2"
      },
      "outputs": [
        {
          "output_type": "stream",
          "name": "stdout",
          "text": [
            "어디까지 더할까요? 10\n",
            "55\n"
          ]
        }
      ],
      "source": [
        "num = int(input(\"어디까지 더할까요? \"))\n",
        "\n",
        "sum = 0;\n",
        "i = 1;\n",
        "\n",
        "while i <= num :\n",
        "    sum = sum + i\n",
        "    i = i + 1\n",
        "print(sum)"
      ]
    },
    {
      "cell_type": "markdown",
      "source": [
        "**사용자가 입력한 단의 구구단 출력 문제**"
      ],
      "metadata": {
        "id": "ASraTYpwwpGW"
      }
    },
    {
      "cell_type": "code",
      "source": [
        "base = int(input(\"출력할 단을 입력하세요: \"))\n",
        "\n",
        "i = 1\n",
        "while i <= 9 :\n",
        "    print(base, \"X\", i, \"=\", base * i)\n",
        "    i = i + 1"
      ],
      "metadata": {
        "id": "Qpef1B4avXCU",
        "colab": {
          "base_uri": "https://localhost:8080/"
        },
        "outputId": "d07e6bdb-4d2e-42be-940b-585d97e99283"
      },
      "execution_count": 5,
      "outputs": [
        {
          "output_type": "stream",
          "name": "stdout",
          "text": [
            "출력할 단을 입력하세요: 6\n",
            "6 X 1 = 6\n",
            "6 X 2 = 12\n",
            "6 X 3 = 18\n",
            "6 X 4 = 24\n",
            "6 X 5 = 30\n",
            "6 X 6 = 36\n",
            "6 X 7 = 42\n",
            "6 X 8 = 48\n",
            "6 X 9 = 54\n"
          ]
        }
      ]
    },
    {
      "cell_type": "markdown",
      "source": [
        "# 7강 2절"
      ],
      "metadata": {
        "id": "9vqH3vtHvPug"
      }
    },
    {
      "cell_type": "code",
      "source": [
        "# 리스트 생성\n",
        "hei_list = [1, 4, 14, 26, 31]\n",
        "\n",
        "for hei in hei_list :\n",
        "    print(hei)"
      ],
      "metadata": {
        "id": "3Zgal1-gwfGo",
        "colab": {
          "base_uri": "https://localhost:8080/"
        },
        "outputId": "2fc62b91-f424-433f-9cee-1d608822cdd4"
      },
      "execution_count": 10,
      "outputs": [
        {
          "output_type": "stream",
          "name": "stdout",
          "text": [
            "1\n",
            "4\n",
            "14\n",
            "26\n",
            "31\n"
          ]
        }
      ]
    },
    {
      "cell_type": "markdown",
      "source": [
        "**반지름은 10이고 높이가 1, 5, 14, 26, 31인 원뿔의 부피와 겉넓이를 각각 출력하는 문제**"
      ],
      "metadata": {
        "id": "Q02gRDzzxDQK"
      }
    },
    {
      "cell_type": "code",
      "source": [
        "rad = 10\n",
        "hei_list = [1, 5, 14, 26, 31]\n",
        "\n",
        "for hei in hei_list :\n",
        "    #부피&겉넓이 계산\n",
        "    vol = 1/3 * 3.14 * rad ** 2 * hei\n",
        "    surf = 3.14 * rad ** 2 + 3.14 * rad * hei\n",
        "    print(\"반지름\", rad, \"높이\", hei, \"원뿔\")\n",
        "    print(\"원뿔의 부피는\" ,vol, \"입니다.\")\n",
        "    print(\"원뿔의 겉넓이는\" ,surf, \"입니다\")"
      ],
      "metadata": {
        "id": "gIINGTOsvr9b",
        "colab": {
          "base_uri": "https://localhost:8080/"
        },
        "outputId": "11f28773-6e8e-47a4-cd37-7278be582853"
      },
      "execution_count": 13,
      "outputs": [
        {
          "output_type": "stream",
          "name": "stdout",
          "text": [
            "반지름 10 높이 1 원뿔\n",
            "원뿔의 부피는 104.66666666666666 입니다.\n",
            "원뿔의 겉넓이는 345.4 입니다\n",
            "반지름 10 높이 5 원뿔\n",
            "원뿔의 부피는 523.3333333333333 입니다.\n",
            "원뿔의 겉넓이는 471.0 입니다\n",
            "반지름 10 높이 14 원뿔\n",
            "원뿔의 부피는 1465.3333333333333 입니다.\n",
            "원뿔의 겉넓이는 753.6 입니다\n",
            "반지름 10 높이 26 원뿔\n",
            "원뿔의 부피는 2721.333333333333 입니다.\n",
            "원뿔의 겉넓이는 1130.4 입니다\n",
            "반지름 10 높이 31 원뿔\n",
            "원뿔의 부피는 3244.6666666666665 입니다.\n",
            "원뿔의 겉넓이는 1287.4 입니다\n"
          ]
        }
      ]
    },
    {
      "cell_type": "markdown",
      "source": [
        "# 7강 3절"
      ],
      "metadata": {
        "id": "r9X6IeLNvRmJ"
      }
    },
    {
      "cell_type": "markdown",
      "source": [
        "**반지름과 높이가 (10, 1), (20, 5), (30, 14)인원뿔의 부피와 겉넓이를 각각 출력하는 문제**"
      ],
      "metadata": {
        "id": "xwmWvBKOxUso"
      }
    },
    {
      "cell_type": "code",
      "source": [
        "rad_list = range(10, 31, 10)\n",
        "hei_list = [1, 5, 14]\n",
        "\n",
        "for rad, hei in zip(rad_list, hei_list) :\n",
        "    #부피&겉넓이 계산\n",
        "    vol = 1/3 * 3.14 * rad ** 2 * hei\n",
        "    surf = 3.14 * rad ** 2 + 3.14 * rad * hei\n",
        "    print(\"반지름\", rad, \"높이\", hei, \"원뿔\")\n",
        "    print(\"원뿔의 부피는\" ,vol, \"입니다.\")\n",
        "    print(\"원뿔의 겉넓이는\" ,surf, \"입니다\")"
      ],
      "metadata": {
        "id": "Ft7mZdzExI_p",
        "colab": {
          "base_uri": "https://localhost:8080/"
        },
        "outputId": "8f6a568b-edbd-4ef8-bb06-d97b23720af2"
      },
      "execution_count": 15,
      "outputs": [
        {
          "output_type": "stream",
          "name": "stdout",
          "text": [
            "반지름 10 높이 1 원뿔\n",
            "원뿔의 부피는 104.66666666666666 입니다.\n",
            "원뿔의 겉넓이는 345.4 입니다\n",
            "반지름 20 높이 5 원뿔\n",
            "원뿔의 부피는 2093.333333333333 입니다.\n",
            "원뿔의 겉넓이는 1570.0 입니다\n",
            "반지름 30 높이 14 원뿔\n",
            "원뿔의 부피는 13188.0 입니다.\n",
            "원뿔의 겉넓이는 4144.8 입니다\n"
          ]
        }
      ]
    },
    {
      "cell_type": "markdown",
      "source": [
        "**구구단 표를 출력하는 문제**\n",
        "\n",
        "![9x9.png](data:image/png;base64,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)"
      ],
      "metadata": {
        "id": "AnEjrOXixl1P"
      }
    },
    {
      "cell_type": "code",
      "source": [
        "print(format(\"구구단표\",\">20s\"))\n",
        "\n",
        "# 표 머리 출력\n",
        "print(\"  |\", end = \"\")\n",
        "for j in range(1, 10):\n",
        "    print(\"  \", j, end = \"\")\n",
        "# 새로운 행 삽입\n",
        "print()\n",
        "print(\"-----------------------------------------\")\n",
        "\n",
        "# 구구단 표 출력\n",
        "\n",
        "for i in range(1, 10, 1) :\n",
        "    print(i, \"|\", end = \"\")\n",
        "    for j in range(1, 10, ) :\n",
        "        print(format(i * j, \">4d\"),  end = \"\")\n",
        "    print()"
      ],
      "metadata": {
        "id": "SZaW3UbjxpOo",
        "colab": {
          "base_uri": "https://localhost:8080/"
        },
        "outputId": "d6bec3d5-dc72-4bb2-edbd-57b4040aa459"
      },
      "execution_count": 24,
      "outputs": [
        {
          "output_type": "stream",
          "name": "stdout",
          "text": [
            "                구구단표\n",
            "  |   1   2   3   4   5   6   7   8   9\n",
            "-----------------------------------------\n",
            "1 |   1   2   3   4   5   6   7   8   9\n",
            "2 |   2   4   6   8  10  12  14  16  18\n",
            "3 |   3   6   9  12  15  18  21  24  27\n",
            "4 |   4   8  12  16  20  24  28  32  36\n",
            "5 |   5  10  15  20  25  30  35  40  45\n",
            "6 |   6  12  18  24  30  36  42  48  54\n",
            "7 |   7  14  21  28  35  42  49  56  63\n",
            "8 |   8  16  24  32  40  48  56  64  72\n",
            "9 |   9  18  27  36  45  54  63  72  81\n"
          ]
        }
      ]
    }
  ]
}
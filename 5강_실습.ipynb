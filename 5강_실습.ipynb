{
  "nbformat": 4,
  "nbformat_minor": 0,
  "metadata": {
    "colab": {
      "provenance": [],
      "include_colab_link": true
    },
    "kernelspec": {
      "name": "python3",
      "display_name": "Python 3"
    },
    "language_info": {
      "name": "python"
    }
  },
  "cells": [
    {
      "cell_type": "markdown",
      "metadata": {
        "id": "view-in-github",
        "colab_type": "text"
      },
      "source": [
        "<a href=\"https://colab.research.google.com/github/xaonoax/python_study_knou/blob/main/5%EA%B0%95_%EC%8B%A4%EC%8A%B5.ipynb\" target=\"_parent\"><img src=\"https://colab.research.google.com/assets/colab-badge.svg\" alt=\"Open In Colab\"/></a>"
      ]
    },
    {
      "cell_type": "markdown",
      "source": [
        "# 5강 2절"
      ],
      "metadata": {
        "id": "QaMMtoihlN9D"
      }
    },
    {
      "cell_type": "markdown",
      "source": [
        "삼각형 출력하기"
      ],
      "metadata": {
        "id": "zsVGhzcxlSh2"
      }
    },
    {
      "cell_type": "code",
      "execution_count": 2,
      "metadata": {
        "id": "Uzg7FWgclGzv",
        "colab": {
          "base_uri": "https://localhost:8080/"
        },
        "outputId": "f8fb9b5e-e446-4e9a-9053-842b65b9b100"
      },
      "outputs": [
        {
          "output_type": "stream",
          "name": "stdout",
          "text": [
            "   *\n",
            "  ***\n",
            " *****\n",
            "*******\n"
          ]
        }
      ],
      "source": [
        "print(\"   *\")\n",
        "print(\"  ***\")\n",
        "print(\" *****\")\n",
        "print(\"*******\")"
      ]
    },
    {
      "cell_type": "code",
      "source": [
        "rad = input(\"반지름의 값을 입력하세요 : \")"
      ],
      "metadata": {
        "colab": {
          "base_uri": "https://localhost:8080/"
        },
        "id": "9JhrnUpY34K-",
        "outputId": "da21ae94-5434-4bad-f320-0d27d884a934"
      },
      "execution_count": 11,
      "outputs": [
        {
          "name": "stdout",
          "output_type": "stream",
          "text": [
            "반지름의 값을 입력하세요 : 30\n"
          ]
        }
      ]
    },
    {
      "cell_type": "code",
      "source": [
        "int(input(\"반지름의 값을 입력하세요 : \"))"
      ],
      "metadata": {
        "colab": {
          "base_uri": "https://localhost:8080/"
        },
        "id": "jWm6aDI47dIH",
        "outputId": "38f7a0a7-3d1f-4a9c-c125-2baec9213099"
      },
      "execution_count": 13,
      "outputs": [
        {
          "name": "stdout",
          "output_type": "stream",
          "text": [
            "반지름의 값을 입력하세요 : 30\n"
          ]
        },
        {
          "output_type": "execute_result",
          "data": {
            "text/plain": [
              "30"
            ]
          },
          "metadata": {},
          "execution_count": 13
        }
      ]
    },
    {
      "cell_type": "markdown",
      "source": [
        "원뿔 계산 프로그램 개선"
      ],
      "metadata": {
        "id": "o1aoIihhlrBZ"
      }
    },
    {
      "cell_type": "code",
      "source": [
        "#반지름, 높이 값 할당\n",
        "rad = int(input(\"반지름의 값을 입력하세요 : \"))\n",
        "hei = int(input(\"높이 값을 입력하세요 : \"))\n",
        "#부피 출력\n",
        "print(\"부피의 값은 \", 1 / 3 * 3.14 * rad ** 2 * hei, \"입니다.\", sep='')\n",
        "#겉넓이 출력\n",
        "print(\"겉넓이의 값은 \", 3.14 * rad ** 2 + 3.14 * rad * hei, \"입니다.\", sep='')"
      ],
      "metadata": {
        "id": "jzJqpbKgluL7",
        "colab": {
          "base_uri": "https://localhost:8080/"
        },
        "outputId": "c3dff3c0-a32c-4201-854d-b55c26ab75a3"
      },
      "execution_count": 18,
      "outputs": [
        {
          "output_type": "stream",
          "name": "stdout",
          "text": [
            "반지름의 값을 입력하세요 : 20\n",
            "높이 값을 입력하세요 : 30\n",
            "부피의 값은 12559.999999999998입니다.\n",
            "겉넓이의 값은 3140.0입니다.\n"
          ]
        }
      ]
    }
  ]
}
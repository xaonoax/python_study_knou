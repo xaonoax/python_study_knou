{
  "nbformat": 4,
  "nbformat_minor": 0,
  "metadata": {
    "colab": {
      "provenance": [],
      "toc_visible": true,
      "mount_file_id": "1jSnotEwZwRwRg2NTRpaw-Jv8xqgV4IY9",
      "authorship_tag": "ABX9TyNgEalDq7Qmw0YZjIuTsOFh"
    },
    "kernelspec": {
      "name": "python3",
      "display_name": "Python 3"
    },
    "language_info": {
      "name": "python"
    }
  },
  "cells": [
    {
      "cell_type": "markdown",
      "source": [
        "# **a는 수강 학점이고 수강학점을 출력하는 코드**"
      ],
      "metadata": {
        "id": "FfqQcI6RjlU_"
      }
    },
    {
      "cell_type": "code",
      "source": [
        "a = 10\n",
        "print(a)"
      ],
      "metadata": {
        "colab": {
          "base_uri": "https://localhost:8080/"
        },
        "id": "3iyDLoEKjLRw",
        "outputId": "207f3d0f-199c-4417-b061-890bdcc047e0"
      },
      "execution_count": 3,
      "outputs": [
        {
          "output_type": "stream",
          "name": "stdout",
          "text": [
            "10\n"
          ]
        }
      ]
    }
  ]
}